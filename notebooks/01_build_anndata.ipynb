{
 "cells": [
  {
   "cell_type": "code",
   "execution_count": 3,
   "id": "ad4a5278-135c-481a-b597-ccdeee7c2a8d",
   "metadata": {},
   "outputs": [
    {
     "data": {
      "text/plain": [
       "(PosixPath('/Users/oliviamohning/Documents/ds-portfolio/scrnaseq/data/GSE138852/GSE138852_counts.csv'),\n",
       " PosixPath('/Users/oliviamohning/Documents/ds-portfolio/scrnaseq/data/GSE138852/GSE138852_covariates.csv'))"
      ]
     },
     "execution_count": 3,
     "metadata": {},
     "output_type": "execute_result"
    }
   ],
   "source": [
    "from pathlib import Path\n",
    "import warnings\n",
    "warnings.filterwarnings(\"ignore\", category=UserWarning, module=r\"louvain\")\n",
    "\n",
    "import pandas as pd\n",
    "import numpy as np\n",
    "import scanpy as sc\n",
    "\n",
    "# paths\n",
    "repo_root = Path(\"/Users/oliviamohning/Documents/ds-portfolio/scrnaseq\")\n",
    "data_dir  = repo_root / \"data\"\n",
    "src_dir   = data_dir / \"GSE138852\"\n",
    "proc_dir  = data_dir / \"processed\"\n",
    "fig_dir   = repo_root / \"figures\"\n",
    "res_dir   = repo_root / \"results\"\n",
    "\n",
    "for d in (proc_dir, fig_dir, res_dir):\n",
    "    d.mkdir(parents=True, exist_ok=True)\n",
    "\n",
    "counts_path = src_dir / \"GSE138852_counts.csv\"\n",
    "meta_path   = src_dir / \"GSE138852_covariates.csv\"\n",
    "\n",
    "counts_path, meta_path"
   ]
  },
  {
   "cell_type": "code",
   "execution_count": null,
   "id": "0491a819-7ef3-4d87-abd7-dc9cbae6c7c1",
   "metadata": {},
   "outputs": [],
   "source": []
  }
 ],
 "metadata": {
  "kernelspec": {
   "display_name": "scrnaseq",
   "language": "python",
   "name": "scrnaseq"
  },
  "language_info": {
   "codemirror_mode": {
    "name": "ipython",
    "version": 3
   },
   "file_extension": ".py",
   "mimetype": "text/x-python",
   "name": "python",
   "nbconvert_exporter": "python",
   "pygments_lexer": "ipython3",
   "version": "3.11.13"
  }
 },
 "nbformat": 4,
 "nbformat_minor": 5
}
