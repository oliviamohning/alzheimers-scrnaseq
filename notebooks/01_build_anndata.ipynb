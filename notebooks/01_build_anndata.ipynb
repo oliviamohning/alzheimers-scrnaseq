{
 "cells": [
  {
   "cell_type": "markdown",
   "id": "f699afe0-30e5-4df1-bd89-dc7b88d01728",
   "metadata": {},
   "source": [
    "# Alzheimer's Disease scRNA-seq Analysis (Entorhinal Cortex)\n",
    "\n",
    "**Author:** Olivia Mohning  \n",
    "**Repository:** `scrnaseq`  \n",
    "**Notebook:** `notebooks/01_build_anndata.ipynb`  \n",
    "**Created:** 2025-08-07\n",
    "\n",
    "---\n",
    "\n",
    "## Description\n",
    "This notebook loads, processes, and organizes single-cell RNA sequencing (scRNA-seq) data from the entorhinal cortex of Alzheimer's disease patients (dataset: **GSE138852**) into an **AnnData** object for downstream analysis using Scanpy and related tools.\n",
    "\n",
    "---\n",
    "\n",
    "## Objectives\n",
    "1. Load processed counts and metadata  \n",
    "2. Perform basic quality control (QC) and filtering  \n",
    "3. Normalize and log-transform the data  \n",
    "4. Conduct dimensionality reduction (PCA, UMAP)  \n",
    "5. Identify cell clusters and marker genes  \n",
    "6. Save processed AnnData object for later steps  \n",
    "\n",
    "---\n",
    "\n",
    "## Requirements\n",
    "- Python >= 3.10  \n",
    "- `scanpy`, `anndata`, `pandas`, `numpy`, `matplotlib`, `seaborn`  \n",
    "- `scvi-tools`, `celltypist`  \n",
    "- Bioinformatics tools: `samtools`, `bcftools`, `bedtools`, `bwa`, `blast` (optional)  \n",
    "\n",
    "---\n",
    "\n",
    "## Data Source\n",
    "**GSE138852** – Human entorhinal cortex from aged individuals with Alzheimer's disease  \n",
    "**Platform:** Illumina NextSeq 500  \n",
    "\n",
    "---\n",
    "\n",
    "## Notes\n",
    "Raw FASTQ files are excluded from version control due to size limits.  \n",
    "Processed counts and covariates are included in `data/GSE138852`.  \n"
   ]
  },
  {
   "cell_type": "code",
   "execution_count": 2,
   "id": "ad4a5278-135c-481a-b597-ccdeee7c2a8d",
   "metadata": {},
   "outputs": [
    {
     "name": "stdout",
     "output_type": "stream",
     "text": [
      "Repo root: /Users/oliviamohning/Documents/ds-portfolio/scrnaseq\n",
      "Counts path: True /Users/oliviamohning/Documents/ds-portfolio/scrnaseq/data/raw/GSE138852/GSE138852_counts.csv\n",
      "Meta path: True /Users/oliviamohning/Documents/ds-portfolio/scrnaseq/data/raw/GSE138852/GSE138852_covariates.csv\n"
     ]
    }
   ],
   "source": [
    "# Step 1: Load Data\n",
    "import warnings\n",
    "warnings.filterwarnings(\"ignore\", category=UserWarning, module=r\"louvain\")\n",
    "from pathlib import Path\n",
    "import numpy as np\n",
    "import pandas as pd\n",
    "import scanpy as sc\n",
    "\n",
    "# Auto-detect repo root by walking up from current dir\n",
    "def find_repo_root(start: Path = Path.cwd()) -> Path:\n",
    "    here = start.resolve()\n",
    "    for p in [here] + list(here.parents):\n",
    "        if (p / \"notebooks\").is_dir() and (p / \"data\").is_dir() and (p / \"README.md\").exists():\n",
    "            return p\n",
    "    raise FileNotFoundError(\"Could not locate repo root. Are you running inside the 'scrnaseq' repo?\")\n",
    "\n",
    "repo_root = find_repo_root()\n",
    "\n",
    "# Define paths (updated to use data/raw/GSE138852)\n",
    "data_dir = repo_root / \"data\"\n",
    "src_dir  = data_dir / \"raw\" / \"GSE138852\"\n",
    "proc_dir = data_dir / \"processed\"\n",
    "fig_dir  = repo_root / \"figures\"\n",
    "res_dir  = repo_root / \"results\"\n",
    "\n",
    "# Make sure output directories exist\n",
    "for d in (proc_dir, fig_dir, res_dir):\n",
    "    d.mkdir(parents=True, exist_ok=True)\n",
    "\n",
    "# File paths\n",
    "counts_path = src_dir / \"GSE138852_counts.csv\"\n",
    "meta_path   = src_dir / \"GSE138852_covariates.csv\"\n",
    "\n",
    "# Sanity checks\n",
    "print(\"Repo root:\", repo_root)\n",
    "print(\"Counts path:\", counts_path.exists(), counts_path)\n",
    "print(\"Meta path:\",   meta_path.exists(),   meta_path)\n"
   ]
  },
  {
   "cell_type": "code",
   "execution_count": null,
   "id": "f315f605",
   "metadata": {},
   "outputs": [],
   "source": [
    "# Load data\n",
    "counts_df = pd.read_csv(counts_path, index_col=0)\n",
    "meta_df   = pd.read_csv(meta_path, index_col=0)\n",
    "\n",
    "# Quick checks\n",
    "print(\"Counts shape:\", counts_df.shape)\n",
    "print(\"Metadata shape:\", meta_df.shape)"
   ]
  },
  {
   "cell_type": "code",
   "execution_count": null,
   "id": "8e680aaa",
   "metadata": {},
   "outputs": [],
   "source": [
    "# Optional: inspect first few rows\n",
    "display(counts_df.head(), meta_df.head())"
   ]
  },
  {
   "cell_type": "code",
   "execution_count": 2,
   "id": "7cd15470-07af-427b-8d2d-5391b97ef462",
   "metadata": {},
   "outputs": [
    {
     "name": "stdout",
     "output_type": "stream",
     "text": [
      "AnnData shape (cells x genes): 13214 x 10850\n",
      "Obs columns: ['oupSample.batchCond', 'oupSample.cellType', 'oupSample.cellType_batchCond', 'oupSample.subclustID', 'oupSample.subclustCond'] ...\n",
      "First 3 cell IDs: ['AAACCTGGTAGAAAGG_AD5_AD6', 'AAACCTGGTAGCGATG_AD5_AD6', 'AAACCTGTCAGTCAGT_AD5_AD6']\n",
      "Saved: /Users/oliviamohning/Documents/ds-portfolio/scrnaseq/data/processed/00_raw.h5ad\n"
     ]
    }
   ],
   "source": [
    "# Step 2: Build AnnData from counts + metadata\n",
    "\n",
    "# If genes are rows and cells are columns, flip so cells are rows\n",
    "if counts_df.shape[0] < counts_df.shape[1]:\n",
    "    counts_df = counts_df.T\n",
    "\n",
    "# Keep only cells present in both tables (and preserve order)\n",
    "common_cells = counts_df.index.intersection(meta_df.index)\n",
    "counts_df = counts_df.loc[common_cells]\n",
    "meta_df   = meta_df.loc[common_cells]\n",
    "\n",
    "# Build AnnData (cells x genes)\n",
    "adata = sc.AnnData(X=counts_df.values)\n",
    "adata.obs = meta_df.copy()\n",
    "adata.var = pd.DataFrame(index=counts_df.columns)\n",
    "adata.obs_names = counts_df.index\n",
    "adata.var_names = counts_df.columns\n",
    "\n",
    "# Basic sanity checks\n",
    "print(\"AnnData shape (cells x genes):\", adata.n_obs, \"x\", adata.n_vars)\n",
    "print(\"Obs columns:\", list(adata.obs.columns)[:8], \"...\")\n",
    "print(\"First 3 cell IDs:\", adata.obs_names[:3].tolist())\n",
    "\n",
    "# Save raw AnnData\n",
    "raw_path = proc_dir / \"00_raw.h5ad\"\n",
    "adata.write_h5ad(raw_path, compression=\"gzip\")\n",
    "print(\"Saved:\", raw_path)\n"
   ]
  }
 ],
 "metadata": {
  "kernelspec": {
   "display_name": "scrnaseq",
   "language": "python",
   "name": "python3"
  },
  "language_info": {
   "codemirror_mode": {
    "name": "ipython",
    "version": 3
   },
   "file_extension": ".py",
   "mimetype": "text/x-python",
   "name": "python",
   "nbconvert_exporter": "python",
   "pygments_lexer": "ipython3",
   "version": "3.11.13"
  }
 },
 "nbformat": 4,
 "nbformat_minor": 5
}
